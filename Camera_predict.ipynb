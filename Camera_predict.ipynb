{
 "cells": [
  {
   "cell_type": "code",
   "execution_count": 1,
   "metadata": {
    "ExecuteTime": {
     "end_time": "2020-01-05T16:08:54.775095Z",
     "start_time": "2020-01-05T16:08:54.758069Z"
    }
   },
   "outputs": [],
   "source": [
    "from pathlib import Path\n",
    "import sys\n",
    "root = Path.cwd().parent\n",
    "sys.path.insert(1, str(root))\n",
    "%load_ext autoreload\n",
    "%autoreload 2"
   ]
  },
  {
   "cell_type": "code",
   "execution_count": 2,
   "metadata": {
    "ExecuteTime": {
     "end_time": "2020-01-05T16:08:58.679415Z",
     "start_time": "2020-01-05T16:08:54.958844Z"
    }
   },
   "outputs": [],
   "source": [
    "import cv2\n",
    "import dlib\n",
    "import face_recognition\n",
    "import numpy as np\n",
    "from pathlib import Path\n",
    "from sklearn.svm import SVC\n",
    "from tensorflow.keras.models import load_model\n",
    "from sklearn.preprocessing import Normalizer\n",
    "import warnings\n",
    "warnings.filterwarnings(\"ignore\")"
   ]
  },
  {
   "cell_type": "code",
   "execution_count": 3,
   "metadata": {
    "ExecuteTime": {
     "end_time": "2020-01-05T16:08:58.721087Z",
     "start_time": "2020-01-05T16:08:58.681519Z"
    }
   },
   "outputs": [],
   "source": [
    "from appconfig.config import MODEL_DIR"
   ]
  },
  {
   "cell_type": "code",
   "execution_count": 4,
   "metadata": {
    "ExecuteTime": {
     "end_time": "2020-01-05T16:08:59.109340Z",
     "start_time": "2020-01-05T16:08:58.723159Z"
    }
   },
   "outputs": [],
   "source": [
    "detector = dlib.get_frontal_face_detector()"
   ]
  },
  {
   "cell_type": "code",
   "execution_count": 5,
   "metadata": {
    "ExecuteTime": {
     "end_time": "2020-01-05T16:09:05.271495Z",
     "start_time": "2020-01-05T16:08:59.111820Z"
    }
   },
   "outputs": [
    {
     "name": "stdout",
     "output_type": "stream",
     "text": [
      "WARNING:tensorflow:No training configuration found in save file: the model was *not* compiled. Compile it manually.\n"
     ]
    }
   ],
   "source": [
    "import pickle\n",
    "with open('SVM_be_cham.sav', 'rb') as f:\n",
    "    clf = pickle.load(f)\n",
    "    \n",
    "with open('decoder_be_cham.pickle', 'rb') as f:\n",
    "    decoder = pickle.load(f)\n",
    "    \n",
    "face_model = load_model(MODEL_DIR)"
   ]
  },
  {
   "cell_type": "code",
   "execution_count": 6,
   "metadata": {
    "ExecuteTime": {
     "end_time": "2020-01-05T16:03:30.048713Z",
     "start_time": "2020-01-05T16:03:30.001840Z"
    }
   },
   "outputs": [
    {
     "data": {
      "text/plain": [
       "SVC(C=1.0, break_ties=False, cache_size=200, class_weight=None, coef0=0.0,\n",
       "    decision_function_shape='ovr', degree=3, gamma='scale', kernel='linear',\n",
       "    max_iter=-1, probability=True, random_state=None, shrinking=True, tol=0.001,\n",
       "    verbose=False)"
      ]
     },
     "execution_count": 6,
     "metadata": {},
     "output_type": "execute_result"
    }
   ],
   "source": [
    "clf"
   ]
  },
  {
   "cell_type": "code",
   "execution_count": 7,
   "metadata": {
    "ExecuteTime": {
     "end_time": "2020-01-05T16:01:22.204536Z",
     "start_time": "2020-01-05T16:01:22.145194Z"
    }
   },
   "outputs": [],
   "source": [
    "def get_face_boundary(frame, upsample = 0):\n",
    "    rects = detector(frame, upsample)\n",
    "    rects_list = []\n",
    "    if len(rects) > 0:   \n",
    "        for rect in rects:\n",
    "            rects_list.append(rect)\n",
    "        return rects_list\n",
    "    else:\n",
    "        return\n",
    "\n",
    "def draw_rectangle_around_faces(frame, rect_list):\n",
    "    for rect in rect_list:\n",
    "        left = rect.left()\n",
    "        top = rect.top()\n",
    "        right = rect.right()\n",
    "        bottom = rect.bottom()\n",
    "        cv2.rectangle(frame, (left, top), (right, bottom), (0, 255, 0), 2)\n",
    "    return \n",
    "\n",
    "def crop_face(frame, rect_list):\n",
    "    faces = []\n",
    "    for rect in rect_list:\n",
    "        left = rect.left()\n",
    "        top = rect.top()\n",
    "        right = rect.right()\n",
    "        bottom = rect.bottom()\n",
    "        faces.append(frame[top: bottom, left: right])\n",
    "    return faces\n",
    "\n",
    "def standardize(pixels):\n",
    "    mean, std = pixels.mean(), pixels.std()\n",
    "    pixels_std = (pixels - mean) / std\n",
    "    return pixels_std\n",
    "\n",
    "def get_features(face):\n",
    "    array = np.asarray(face, dtype=np.float32)\n",
    "    array = cv2.resize(array, (160,160))\n",
    "    array = standardize(array)\n",
    "    array = np.expand_dims(array, axis=0)\n",
    "    yhat = face_model.predict(array)\n",
    "    yhat = Normalizer().transform(yhat)\n",
    "    return yhat\n",
    "\n",
    "def preprocess_frame(faces, rect_list):\n",
    "    x_test = np.zeros(shape=(len(faces), 128))\n",
    "    i = 0\n",
    "    for face in faces:\n",
    "        features = get_features(face)\n",
    "        x_test[i] = features\n",
    "\n",
    "    \n",
    "    name = clf.predict(x_test)\n",
    "    name = decoder.inverse_transform(name)\n",
    "    return zip(name, rect_list)\n",
    "\n",
    "def run_facedetector_camera():\n",
    "    cap = cv2.VideoCapture(0)\n",
    "\n",
    "    i = 0\n",
    "    font = cv2.FONT_HERSHEY_SIMPLEX \n",
    "    # fontScale \n",
    "    fontScale = 1\n",
    "\n",
    "    # Red color in BGR \n",
    "    color = (0, 0, 255) \n",
    "\n",
    "    # Line thickness of 2 px \n",
    "    thickness = 2\n",
    "    \n",
    "    while (True):\n",
    "        # Capture frame-by-frame\n",
    "        _, frame = cap.read()\n",
    "        if get_face_boundary(frame, upsample=0):\n",
    "            rect_list = get_face_boundary(frame, upsample=0)\n",
    "            draw_rectangle_around_faces(frame, rect_list)\n",
    "\n",
    "            faces = crop_face(frame, rect_list)\n",
    "            try:\n",
    "                for name, rect in preprocess_frame(faces, rect_list):\n",
    "                    left = rect.left()\n",
    "                    right = rect.right()\n",
    "                    bottom = rect.bottom()\n",
    "                    cv2.putText(frame, name, ((left + right) // 2, bottom + 20), font, fontScale,  color, thickness, cv2.LINE_AA, False)\n",
    "            except:\n",
    "                pass\n",
    "\n",
    "        # Display the resulting frame\n",
    "        cv2.imshow('Image', frame)\n",
    "            \n",
    "        if cv2.waitKey(1) & 0xFF == ord('q'):\n",
    "            break\n",
    "\n",
    "    # When everything done, release the capture\n",
    "    cap.release()\n",
    "    cv2.destroyAllWindows()\n",
    "    \n",
    "    return"
   ]
  },
  {
   "cell_type": "code",
   "execution_count": 8,
   "metadata": {
    "ExecuteTime": {
     "end_time": "2020-01-05T16:01:28.366757Z",
     "start_time": "2020-01-05T16:01:22.206873Z"
    }
   },
   "outputs": [],
   "source": [
    "run_facedetector_camera()"
   ]
  },
  {
   "cell_type": "code",
   "execution_count": 7,
   "metadata": {
    "ExecuteTime": {
     "end_time": "2020-01-05T16:11:27.973542Z",
     "start_time": "2020-01-05T16:09:05.337292Z"
    }
   },
   "outputs": [],
   "source": [
    "run_facedetector_camera()"
   ]
  },
  {
   "cell_type": "code",
   "execution_count": null,
   "metadata": {},
   "outputs": [],
   "source": []
  }
 ],
 "metadata": {
  "kernelspec": {
   "display_name": "Python 3",
   "language": "python",
   "name": "python3"
  },
  "language_info": {
   "codemirror_mode": {
    "name": "ipython",
    "version": 3
   },
   "file_extension": ".py",
   "mimetype": "text/x-python",
   "name": "python",
   "nbconvert_exporter": "python",
   "pygments_lexer": "ipython3",
   "version": "3.7.4"
  },
  "toc": {
   "base_numbering": 1,
   "nav_menu": {},
   "number_sections": true,
   "sideBar": true,
   "skip_h1_title": false,
   "title_cell": "Table of Contents",
   "title_sidebar": "Contents",
   "toc_cell": false,
   "toc_position": {},
   "toc_section_display": true,
   "toc_window_display": false
  }
 },
 "nbformat": 4,
 "nbformat_minor": 2
}
