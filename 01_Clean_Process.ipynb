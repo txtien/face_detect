{
 "cells": [
  {
   "cell_type": "markdown",
   "metadata": {},
   "source": [
    "# Import to use scripts"
   ]
  },
  {
   "cell_type": "code",
   "execution_count": 1,
   "metadata": {
    "ExecuteTime": {
     "end_time": "2020-01-05T17:34:10.146963Z",
     "start_time": "2020-01-05T17:34:10.124468Z"
    }
   },
   "outputs": [],
   "source": [
    "import pathlib\n",
    "import sys\n",
    "root = pathlib.Path.cwd().parent\n",
    "sys.path.insert(1, str(root))\n",
    "\n",
    "%load_ext autoreload\n",
    "%autoreload 2  # Autoreload all modules"
   ]
  },
  {
   "cell_type": "markdown",
   "metadata": {},
   "source": [
    "# Import needed library"
   ]
  },
  {
   "cell_type": "markdown",
   "metadata": {},
   "source": [
    "## Import basic things"
   ]
  },
  {
   "cell_type": "code",
   "execution_count": 2,
   "metadata": {
    "ExecuteTime": {
     "end_time": "2020-01-05T17:34:11.530704Z",
     "start_time": "2020-01-05T17:34:11.192203Z"
    }
   },
   "outputs": [],
   "source": [
    "import os\n",
    "import shutil\n",
    "import matplotlib.pyplot as plt\n",
    "import numpy as np\n",
    "\n",
    "from pathlib import Path\n",
    "from PIL import Image"
   ]
  },
  {
   "cell_type": "markdown",
   "metadata": {},
   "source": [
    "## Import third-library party"
   ]
  },
  {
   "cell_type": "code",
   "execution_count": 3,
   "metadata": {
    "ExecuteTime": {
     "end_time": "2020-01-05T17:34:15.436444Z",
     "start_time": "2020-01-05T17:34:12.111391Z"
    }
   },
   "outputs": [
    {
     "name": "stderr",
     "output_type": "stream",
     "text": [
      "Using TensorFlow backend.\n"
     ]
    }
   ],
   "source": [
    "import cv2\n",
    "import dlib\n",
    "import face_recognition\n",
    "import mtcnn\n",
    "from imutils import face_utils\n",
    "from tqdm import tqdm"
   ]
  },
  {
   "cell_type": "markdown",
   "metadata": {
    "ExecuteTime": {
     "end_time": "2019-12-19T17:02:53.300867Z",
     "start_time": "2019-12-19T17:02:53.296291Z"
    }
   },
   "source": [
    "# Load image path"
   ]
  },
  {
   "cell_type": "code",
   "execution_count": 4,
   "metadata": {
    "ExecuteTime": {
     "end_time": "2020-01-05T17:34:15.444202Z",
     "start_time": "2020-01-05T17:34:15.438770Z"
    }
   },
   "outputs": [],
   "source": [
    "from appconfig.config import IMAGE_DATA_DIR, RAW_DATA_DIR, CLEANED_DATA_DIR, PROCESSED_DATA_DIR\n",
    "# DIR is Pathlib object"
   ]
  },
  {
   "cell_type": "markdown",
   "metadata": {},
   "source": [
    "# Initialize detector"
   ]
  },
  {
   "cell_type": "code",
   "execution_count": 5,
   "metadata": {
    "ExecuteTime": {
     "end_time": "2020-01-05T17:34:17.156583Z",
     "start_time": "2020-01-05T17:34:15.446185Z"
    }
   },
   "outputs": [],
   "source": [
    "p = str(Path.cwd().parent / 'resources' / 'shape_predictor_68_face_landmarks.dat')\n",
    "predictor = dlib.shape_predictor(p)\n",
    "mtcnn_detector = mtcnn.MTCNN()\n",
    "dlib_detector = dlib.get_frontal_face_detector()"
   ]
  },
  {
   "cell_type": "markdown",
   "metadata": {},
   "source": [
    "# Create train, test, validation folder "
   ]
  },
  {
   "cell_type": "code",
   "execution_count": 18,
   "metadata": {
    "ExecuteTime": {
     "end_time": "2020-01-05T15:02:06.654833Z",
     "start_time": "2020-01-05T15:02:06.647620Z"
    },
    "code_folding": []
   },
   "outputs": [],
   "source": [
    "def make_directory(path, foldername):\n",
    "    \"\"\"\n",
    "    Make directory\n",
    "    path: str\n",
    "    foldername: str\n",
    "    \"\"\"\n",
    "    \n",
    "    dir_ = path / foldername\n",
    "    if not os.path.exists(dir_):\n",
    "        os.mkdir(dir_)\n",
    "    return\n",
    "\n",
    "make_directory(PROCESSED_DATA_DIR, 'train')\n",
    "make_directory(PROCESSED_DATA_DIR, 'test')"
   ]
  },
  {
   "cell_type": "markdown",
   "metadata": {},
   "source": [
    "# Create data dictionary"
   ]
  },
  {
   "cell_type": "code",
   "execution_count": 12,
   "metadata": {
    "ExecuteTime": {
     "end_time": "2020-01-05T15:01:40.151741Z",
     "start_time": "2020-01-05T15:01:40.135364Z"
    },
    "code_folding": []
   },
   "outputs": [],
   "source": [
    "def create_data_dictionary(DATA_DIR):\n",
    "    '''\n",
    "    Loop through Image directory has many subfolders, subfolders's name is label\n",
    "\n",
    "    Args: \n",
    "    DATA_DIR: Image directory. type Poxis_Path\n",
    "    limit_image: Maximum images in dictionary\n",
    "\n",
    "    return:\n",
    "    Dict {'label': [images's filename]}\n",
    "    '''\n",
    "    data_dict = {}\n",
    "    for path in DATA_DIR.glob('*'):\n",
    "        label = str(path).split('/')[-1]\n",
    "        data_dict.setdefault(label, [])\n",
    "\n",
    "        for image_path in (DATA_DIR/label).glob('*'):\n",
    "            filename = str(image_path).split('/')[-1]\n",
    "            data_dict.get(label).append(filename)\n",
    "            \n",
    "    return data_dict\n",
    "\n",
    "data_dict_ = create_data_dictionary(IMAGE_DATA_DIR)"
   ]
  },
  {
   "cell_type": "code",
   "execution_count": 13,
   "metadata": {
    "ExecuteTime": {
     "end_time": "2020-01-05T15:01:41.224724Z",
     "start_time": "2020-01-05T15:01:41.218625Z"
    }
   },
   "outputs": [],
   "source": [
    "# Limit 1000 image for each person\n",
    "limit = 1000\n",
    "data_dict = {}\n",
    "i = 0 \n",
    "for key, val in data_dict_.items():\n",
    "    vals = val[:limit]\n",
    "    data_dict.setdefault(key, vals)"
   ]
  },
  {
   "cell_type": "markdown",
   "metadata": {},
   "source": [
    "# Extract Face"
   ]
  },
  {
   "cell_type": "code",
   "execution_count": 6,
   "metadata": {
    "ExecuteTime": {
     "end_time": "2020-01-05T17:34:20.728040Z",
     "start_time": "2020-01-05T17:34:20.697366Z"
    },
    "code_folding": [
     0,
     5,
     9,
     15,
     21,
     36,
     43,
     66,
     78
    ]
   },
   "outputs": [],
   "source": [
    "def handle_when_x_y_less_than_0(x, y):\n",
    "    x = np.max([0, x])\n",
    "    y = np.max([0, y])\n",
    "    return x, y\n",
    "\n",
    "def draw_rectangle_around_faces(frame, top, right, bottom, left):\n",
    "    cv2.rectangle(frame, (left, top), (right, bottom), (0, 255, 0), 2)\n",
    "    return frame\n",
    "\n",
    "def calculate_angle(left_eye, right_eye):\n",
    "    dX = right_eye[0] - left_eye[0]\n",
    "    dY = right_eye[1] - left_eye[1]\n",
    "    angle = np.degrees(np.arctan2(dY, dX))\n",
    "    return angle\n",
    "\n",
    "def rotate_image(arr_img, angle):\n",
    "    image = Image.fromarray(arr_img)\n",
    "    image = image.rotate(angle)\n",
    "    arr_img = np.asarray(image)\n",
    "    return arr_img\n",
    "\n",
    "def face_landmark(arr_img):\n",
    "    rects = dlib_detector(arr_img, 0)\n",
    "    # loop over the face detections\n",
    "    if len(rects) > 0:\n",
    "        for (i, rect) in enumerate(rects):\n",
    "            # determine the facial landmarks for the face region, then\n",
    "            # convert the facial landmark (x, y)-coordinates to a NumPy\n",
    "            # array\n",
    "            shape = predictor(arr_img, rect)\n",
    "            shape = face_utils.shape_to_np(shape)\n",
    "\n",
    "            return shape\n",
    "    else:\n",
    "        return face_recognition.face_landmarks(arr_img)\n",
    "\n",
    "def handle_face_recognition(obj):\n",
    "    lst = []\n",
    "    for key, val in obj[0].items():\n",
    "        for coor in val:\n",
    "            lst.append(coor)\n",
    "    return lst\n",
    "\n",
    "def crop_with_landmark(arr_img):\n",
    "    face_landmarks = face_landmark(arr_img)\n",
    "    if type(face_landmarks) == list:\n",
    "        face_landmarks = handle_face_recognition(face_landmarks)\n",
    "        \n",
    "    x_lst = []\n",
    "    y_lst = []\n",
    "    limit_pixel = 0 # for not negative\n",
    "    for x, y in face_landmarks:\n",
    "        if x > limit_pixel and y > limit_pixel:\n",
    "            x_lst.append(x)\n",
    "            y_lst.append(y)\n",
    "\n",
    "    left = min(x_lst)\n",
    "    right = max(x_lst)\n",
    "    top = min(y_lst)\n",
    "    bottom = max(y_lst)\n",
    "\n",
    "\n",
    "    arr_img = arr_img[top: bottom, left: right]\n",
    "    \n",
    "    return arr_img\n",
    "\n",
    "def crop_with_mtcnn(arr_img):\n",
    "    result = mtcnn_detector.detect_faces(arr_img)\n",
    "    if result:\n",
    "        x1, y1, width, height = result[0]['box']\n",
    "        x1, y1 = handle_when_x_y_less_than_0(x1, y1)\n",
    "        x2, y2 = x1 + width, y1 + height\n",
    "        # extract the face\n",
    "        face = arr_img[y1:y2, x1:x2]\n",
    "        return face\n",
    "    else:\n",
    "        return None\n",
    "\n",
    "def extract_face(filename, required_size=(160, 160)):\n",
    "    # load image from file\n",
    "    pixels = plt.imread(filename)\n",
    "    # detect faces in the image\n",
    "    results = mtcnn_detector.detect_faces(pixels)\n",
    "    # rotate image\n",
    "    if results:\n",
    "        left_eye = results[0]['keypoints'].get('left_eye')\n",
    "        right_eye = results[0]['keypoints'].get('right_eye')\n",
    "        angle = calculate_angle(left_eye, right_eye)\n",
    "        rotated_image = rotate_image(pixels, angle)\n",
    "    # extract the face from rotated image\n",
    "        if len(face_landmark(rotated_image)) > 0:\n",
    "            face = crop_with_landmark(rotated_image)\n",
    "        elif crop_with_mtcnn(rotated_image) is None:\n",
    "            face = pixels\n",
    "        else:\n",
    "            face = crop_with_mtcnn(rotated_image)\n",
    "    # resize pixels to the model size\n",
    "        image = Image.fromarray(face)\n",
    "    else:\n",
    "        image = Image.fromarray(pixels)\n",
    "    \n",
    "    image = image.resize(required_size)\n",
    "    face_array = np.asarray(image)\n",
    "    return face_array"
   ]
  },
  {
   "cell_type": "markdown",
   "metadata": {},
   "source": [
    "# Align Face and Save "
   ]
  },
  {
   "cell_type": "code",
   "execution_count": 16,
   "metadata": {
    "ExecuteTime": {
     "end_time": "2020-01-05T15:01:55.236579Z",
     "start_time": "2020-01-05T15:01:55.230572Z"
    },
    "code_folding": []
   },
   "outputs": [],
   "source": [
    "def convert_array_to_image_and_save(image_array, label, filename):\n",
    "    make_directory(CLEANED_DATA_DIR, label)\n",
    "    save_path = CLEANED_DATA_DIR / label\n",
    "    image = Image.fromarray(image_array)\n",
    "    image.save(str(CLEANED_DATA_DIR / label / filename))\n",
    "    return\n",
    "    \n",
    "def align_face(data_dict):\n",
    "    path = IMAGE_DATA_DIR\n",
    "    for label, filenames in data_dict.items():\n",
    "        for filename in tqdm(filenames):\n",
    "            image_path = str(path / label / filename)\n",
    "            face_array = extract_face(image_path)\n",
    "            convert_array_to_image_and_save(face_array, label, filename)\n",
    "    return"
   ]
  },
  {
   "cell_type": "code",
   "execution_count": 19,
   "metadata": {
    "ExecuteTime": {
     "end_time": "2020-01-05T15:08:07.566146Z",
     "start_time": "2020-01-05T15:02:15.363947Z"
    }
   },
   "outputs": [
    {
     "name": "stderr",
     "output_type": "stream",
     "text": [
      "100%|██████████| 1000/1000 [05:52<00:00,  2.84it/s]\n"
     ]
    }
   ],
   "source": [
    "align_face(data_dict)"
   ]
  },
  {
   "cell_type": "code",
   "execution_count": null,
   "metadata": {},
   "outputs": [],
   "source": []
  }
 ],
 "metadata": {
  "kernelspec": {
   "display_name": "Python 3",
   "language": "python",
   "name": "python3"
  },
  "language_info": {
   "codemirror_mode": {
    "name": "ipython",
    "version": 3
   },
   "file_extension": ".py",
   "mimetype": "text/x-python",
   "name": "python",
   "nbconvert_exporter": "python",
   "pygments_lexer": "ipython3",
   "version": "3.7.4"
  },
  "toc": {
   "base_numbering": 1,
   "nav_menu": {},
   "number_sections": true,
   "sideBar": true,
   "skip_h1_title": false,
   "title_cell": "Table of Contents",
   "title_sidebar": "Contents",
   "toc_cell": false,
   "toc_position": {},
   "toc_section_display": true,
   "toc_window_display": false
  }
 },
 "nbformat": 4,
 "nbformat_minor": 2
}
