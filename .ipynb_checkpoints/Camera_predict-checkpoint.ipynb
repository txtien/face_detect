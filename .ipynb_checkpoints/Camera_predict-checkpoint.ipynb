{
 "cells": [
  {
   "cell_type": "code",
   "execution_count": 1,
   "metadata": {
    "ExecuteTime": {
     "end_time": "2020-01-04T09:49:33.995183Z",
     "start_time": "2020-01-04T09:49:31.948398Z"
    }
   },
   "outputs": [],
   "source": [
    "import cv2\n",
    "import dlib\n",
    "import face_recognition\n",
    "import numpy as np\n",
    "from pathlib import Path\n",
    "from sklearn.svm import SVC\n",
    "import warnings\n",
    "warnings.filterwarnings(\"ignore\")"
   ]
  },
  {
   "cell_type": "code",
   "execution_count": 2,
   "metadata": {
    "ExecuteTime": {
     "end_time": "2020-01-04T09:49:34.332646Z",
     "start_time": "2020-01-04T09:49:33.997284Z"
    }
   },
   "outputs": [],
   "source": [
    "detector = dlib.get_frontal_face_detector()"
   ]
  },
  {
   "cell_type": "code",
   "execution_count": 3,
   "metadata": {
    "ExecuteTime": {
     "end_time": "2020-01-04T09:49:34.345261Z",
     "start_time": "2020-01-04T09:49:34.335270Z"
    },
    "code_folding": []
   },
   "outputs": [],
   "source": [
    "def get_face_boundary(frame, upsample = 0):\n",
    "    rects = detector(frame, upsample)\n",
    "    rects_list = []\n",
    "    if len(rects) > 0:   \n",
    "        for rect in rects:\n",
    "            rects_list.append(rect)\n",
    "        return rects_list\n",
    "    else:\n",
    "        return\n"
   ]
  },
  {
   "cell_type": "code",
   "execution_count": 4,
   "metadata": {
    "ExecuteTime": {
     "end_time": "2020-01-04T09:49:34.356687Z",
     "start_time": "2020-01-04T09:49:34.347453Z"
    }
   },
   "outputs": [],
   "source": [
    "import pickle\n",
    "with open('SVM.sav', 'rb') as f:\n",
    "    clf = pickle.load(f)"
   ]
  },
  {
   "cell_type": "code",
   "execution_count": 5,
   "metadata": {
    "ExecuteTime": {
     "end_time": "2020-01-04T09:49:34.386860Z",
     "start_time": "2020-01-04T09:49:34.358927Z"
    }
   },
   "outputs": [
    {
     "data": {
      "text/plain": [
       "SVC(C=1.0, break_ties=False, cache_size=200, class_weight=None, coef0=0.0,\n",
       "    decision_function_shape='ovr', degree=3, gamma='scale', kernel='linear',\n",
       "    max_iter=-1, probability=True, random_state=None, shrinking=True, tol=0.001,\n",
       "    verbose=False)"
      ]
     },
     "execution_count": 5,
     "metadata": {},
     "output_type": "execute_result"
    }
   ],
   "source": [
    "clf"
   ]
  },
  {
   "cell_type": "code",
   "execution_count": 7,
   "metadata": {
    "ExecuteTime": {
     "end_time": "2020-01-04T09:49:34.395481Z",
     "start_time": "2020-01-04T09:49:34.388738Z"
    }
   },
   "outputs": [
    {
     "ename": "IndentationError",
     "evalue": "unindent does not match any outer indentation level (<tokenize>, line 20)",
     "output_type": "error",
     "traceback": [
      "\u001b[0;36m  File \u001b[0;32m\"<tokenize>\"\u001b[0;36m, line \u001b[0;32m20\u001b[0m\n\u001b[0;31m    def preprocess_frame(faces, rect_list):\u001b[0m\n\u001b[0m    ^\u001b[0m\n\u001b[0;31mIndentationError\u001b[0m\u001b[0;31m:\u001b[0m unindent does not match any outer indentation level\n"
     ]
    }
   ],
   "source": [
    "def draw_rectangle_around_faces(frame, rect_list):\n",
    "    for rect in rect_list:\n",
    "        left = rect.left()\n",
    "        top = rect.top()\n",
    "        right = rect.right()\n",
    "        bottom = rect.bottom()\n",
    "        cv2.rectangle(frame, (left, top), (right, bottom), (0, 255, 0), 2)\n",
    "    return \n",
    "\n",
    "def crop_face(frame, rect_list):\n",
    "    faces = []\n",
    "    for rect in rect_list:\n",
    "        left = rect.left()\n",
    "        top = rect.top()\n",
    "        right = rect.right()\n",
    "        bottom = rect.bottom()\n",
    "        faces.append(frame[top: bottom, left: right])\n",
    "    return faces\n",
    "\n",
    "def preprocess_frame(faces, rect_list):\n",
    "    x_test = []\n",
    "    for face in faces:\n",
    "        x_test.append(face_recognition.face_encodings(face)[0])\n",
    "    \n",
    "    x_test = np.array(x_test)\n",
    "    x_test = (x_test - np.mean(x_test)) / np.std(x_test)\n",
    "    \n",
    "    name = clf.predict(x_test)\n",
    "    return zip(name, rect_list)\n",
    "\n",
    "def run_facedetector_camera():\n",
    "    cap = cv2.VideoCapture(0)\n",
    "\n",
    "    i = 0\n",
    "    font = cv2.FONT_HERSHEY_SIMPLEX \n",
    "    # fontScale \n",
    "    fontScale = 1\n",
    "\n",
    "    # Red color in BGR \n",
    "    color = (0, 0, 255) \n",
    "\n",
    "    # Line thickness of 2 px \n",
    "    thickness = 2\n",
    "    \n",
    "    while (True):\n",
    "        # Capture frame-by-frame\n",
    "        _, frame = cap.read()\n",
    "        if get_face_boundary(frame, upsample=0):\n",
    "            rect_list = get_face_boundary(frame, upsample=0)\n",
    "            draw_rectangle_around_faces(frame, rect_list)\n",
    "            \n",
    "            faces = crop_face(frame, rect_list)\n",
    "            \n",
    "            try:\n",
    "                for name, rect in preprocess_frame(faces, rect_list):\n",
    "                    left = rect.left()\n",
    "                    right = rect.right()\n",
    "                    bottom = rect.bottom()\n",
    "                    cv2.putText(frame, name, ((left + right) // 2, bottom + 20), font, fontScale,  color, thickness, cv2.LINE_AA, False)\n",
    "            except:\n",
    "                pass\n",
    "\n",
    "        # Display the resulting frame\n",
    "        cv2.imshow('Image', frame)\n",
    "            \n",
    "        if cv2.waitKey(1) & 0xFF == ord('q'):\n",
    "            break\n",
    "\n",
    "    # When everything done, release the capture\n",
    "    cap.release()\n",
    "    cv2.destroyAllWindows()\n",
    "    \n",
    "    return"
   ]
  },
  {
   "cell_type": "code",
   "execution_count": null,
   "metadata": {
    "ExecuteTime": {
     "end_time": "2020-01-04T09:49:34.397484Z",
     "start_time": "2020-01-04T09:49:31.940Z"
    }
   },
   "outputs": [],
   "source": [
    "run_facedetector_camera()"
   ]
  },
  {
   "cell_type": "code",
   "execution_count": null,
   "metadata": {
    "ExecuteTime": {
     "end_time": "2020-01-04T09:49:34.398610Z",
     "start_time": "2020-01-04T09:49:31.942Z"
    }
   },
   "outputs": [],
   "source": [
    "# Predict 1 time on 1 seconds\n",
    "# Between 1 second, just use the same name for the same box"
   ]
  },
  {
   "cell_type": "code",
   "execution_count": null,
   "metadata": {},
   "outputs": [],
   "source": []
  }
 ],
 "metadata": {
  "kernelspec": {
   "display_name": "Python 3",
   "language": "python",
   "name": "python3"
  },
  "language_info": {
   "codemirror_mode": {
    "name": "ipython",
    "version": 3
   },
   "file_extension": ".py",
   "mimetype": "text/x-python",
   "name": "python",
   "nbconvert_exporter": "python",
   "pygments_lexer": "ipython3",
   "version": "3.7.4"
  },
  "toc": {
   "base_numbering": 1,
   "nav_menu": {},
   "number_sections": true,
   "sideBar": true,
   "skip_h1_title": false,
   "title_cell": "Table of Contents",
   "title_sidebar": "Contents",
   "toc_cell": false,
   "toc_position": {},
   "toc_section_display": true,
   "toc_window_display": false
  }
 },
 "nbformat": 4,
 "nbformat_minor": 2
}
