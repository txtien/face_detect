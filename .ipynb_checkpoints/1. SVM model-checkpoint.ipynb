{
 "cells": [
  {
   "cell_type": "code",
   "execution_count": 1,
   "metadata": {
    "ExecuteTime": {
     "end_time": "2020-01-02T03:34:07.673912Z",
     "start_time": "2020-01-02T03:34:07.655729Z"
    }
   },
   "outputs": [],
   "source": [
    "from pathlib import Path\n",
    "import sys\n",
    "root = Path.cwd().parent\n",
    "sys.path.insert(1, str(root))\n",
    "%load_ext autoreload\n",
    "%autoreload 2"
   ]
  },
  {
   "cell_type": "code",
   "execution_count": 5,
   "metadata": {
    "ExecuteTime": {
     "end_time": "2020-01-02T03:37:19.646139Z",
     "start_time": "2020-01-02T03:37:19.632375Z"
    }
   },
   "outputs": [],
   "source": [
    "from appconfig.config import IMAGE_DATA_DIR, RAW_DATA_DIR"
   ]
  },
  {
   "cell_type": "code",
   "execution_count": 82,
   "metadata": {
    "ExecuteTime": {
     "end_time": "2020-01-02T04:11:22.773616Z",
     "start_time": "2020-01-02T04:11:22.750593Z"
    }
   },
   "outputs": [],
   "source": [
    "import face_recognition\n",
    "import matplotlib.pyplot as plt\n",
    "import numpy as np\n",
    "from sklearn.svm import SVC\n",
    "from sklearn.preprocessing import StandardScaler\n",
    "from PIL import Image"
   ]
  },
  {
   "cell_type": "markdown",
   "metadata": {},
   "source": [
    "# Prepare data"
   ]
  },
  {
   "cell_type": "code",
   "execution_count": 6,
   "metadata": {
    "ExecuteTime": {
     "end_time": "2020-01-02T03:37:50.347690Z",
     "start_time": "2020-01-02T03:37:50.308467Z"
    }
   },
   "outputs": [],
   "source": [
    "def create_data_dictionary(DATA_DIR):\n",
    "    '''\n",
    "    Loop through Image directory has many subfolders, subfolders's name is label\n",
    "\n",
    "    Args: \n",
    "    DATA_DIR: Image directory. type Poxis_Path\n",
    "    limit_image: Maximum images in dictionary\n",
    "\n",
    "    return:\n",
    "    Dict {'label': [images's filename]}\n",
    "    '''\n",
    "    data_dict = {}\n",
    "    for path in DATA_DIR.glob('*'):\n",
    "        label = str(path).split('/')[-1]\n",
    "        data_dict.setdefault(label, [])\n",
    "        \n",
    "        for image_path in (DATA_DIR/label).glob('*'):\n",
    "            filename = str(image_path).split('/')[-1]\n",
    "            data_dict.get(label).append(filename)\n",
    "            \n",
    "    return data_dict\n",
    "\n",
    "train_data_dict = create_data_dictionary(RAW_DATA_DIR / 'train')\n",
    "test_data_dict = create_data_dictionary(RAW_DATA_DIR / 'test')"
   ]
  },
  {
   "cell_type": "code",
   "execution_count": 12,
   "metadata": {
    "ExecuteTime": {
     "end_time": "2020-01-02T03:53:39.395975Z",
     "start_time": "2020-01-02T03:42:10.785036Z"
    }
   },
   "outputs": [],
   "source": [
    "x_train = []\n",
    "y_train = []\n",
    "\n",
    "for key, val in train_data_dict.items():\n",
    "    for image_name in val:\n",
    "        image_path = str(RAW_DATA_DIR / 'train' / key / image_name)\n",
    "        arr_img = plt.imread(image_path)\n",
    "        x_train.append(face_recognition.face_encodings(arr_img))\n",
    "        y_train.append(key)"
   ]
  },
  {
   "cell_type": "code",
   "execution_count": 15,
   "metadata": {
    "ExecuteTime": {
     "end_time": "2020-01-02T03:53:52.772493Z",
     "start_time": "2020-01-02T03:53:52.755269Z"
    }
   },
   "outputs": [
    {
     "name": "stdout",
     "output_type": "stream",
     "text": [
      "(2400,)\n",
      "(2400,)\n"
     ]
    }
   ],
   "source": [
    "x_train = np.array(x_train)\n",
    "y_train = np.array(y_train)\n",
    "print(x_train.shape)\n",
    "print(y_train.shape)"
   ]
  },
  {
   "cell_type": "code",
   "execution_count": 14,
   "metadata": {
    "ExecuteTime": {
     "end_time": "2020-01-02T03:53:51.276456Z",
     "start_time": "2020-01-02T03:53:51.262005Z"
    }
   },
   "outputs": [],
   "source": [
    "import numpy as np"
   ]
  },
  {
   "cell_type": "code",
   "execution_count": 31,
   "metadata": {
    "ExecuteTime": {
     "end_time": "2020-01-02T03:58:55.918560Z",
     "start_time": "2020-01-02T03:58:55.892285Z"
    }
   },
   "outputs": [
    {
     "data": {
      "text/plain": [
       "array([-4.84955795e-02,  1.35770544e-01,  3.34625095e-02, -7.02335685e-02,\n",
       "       -7.21293390e-02, -3.73557471e-02, -6.92902133e-02, -6.21014573e-02,\n",
       "        1.34347424e-01, -9.15703401e-02,  1.84471250e-01, -5.00945300e-02,\n",
       "       -1.89738646e-01, -1.31980807e-01,  1.14681786e-02,  1.81222439e-01,\n",
       "       -7.18714967e-02, -1.11091033e-01, -8.57717246e-02,  1.23341847e-03,\n",
       "        1.24362640e-01,  7.81035051e-05,  7.22876051e-03,  3.63575779e-02,\n",
       "       -6.07390255e-02, -3.86010140e-01, -1.30517334e-01, -1.60464011e-02,\n",
       "       -2.61837877e-02, -5.38817570e-02, -6.76580966e-02,  3.70588303e-02,\n",
       "       -1.96673617e-01, -1.28670469e-01,  1.87256224e-02,  9.04755145e-02,\n",
       "       -4.11402471e-02, -9.39624980e-02,  1.27912745e-01,  5.29462285e-02,\n",
       "       -1.69504553e-01,  2.14381292e-02, -9.02563240e-03,  2.33625740e-01,\n",
       "        1.56121284e-01,  7.89431334e-02,  8.71197730e-02, -1.51732489e-01,\n",
       "        1.32425040e-01, -1.33028328e-01,  3.78003940e-02,  1.24935642e-01,\n",
       "        1.08502924e-01,  8.09206516e-02,  4.57194336e-02, -6.40069842e-02,\n",
       "        8.21497738e-02,  1.08164862e-01, -1.79473802e-01, -5.65738939e-02,\n",
       "        2.11687200e-02, -5.69859780e-02, -5.71148843e-02, -1.26482666e-01,\n",
       "        2.77881503e-01,  1.21967584e-01, -7.33102262e-02, -1.67656094e-01,\n",
       "        1.56537682e-01, -7.30037242e-02, -8.61142650e-02,  1.39671089e-02,\n",
       "       -1.40468791e-01, -1.29459009e-01, -2.84433007e-01,  5.66807725e-02,\n",
       "        3.58688921e-01,  1.19495623e-01, -2.47937873e-01,  3.79937738e-02,\n",
       "       -9.45981666e-02,  1.47735374e-02,  1.20464362e-01,  1.12139717e-01,\n",
       "       -4.54324149e-02,  5.81644550e-02, -6.87195361e-02,  2.50750687e-03,\n",
       "        2.21164048e-01, -9.54237506e-02, -4.58191670e-02,  1.96448699e-01,\n",
       "        3.43403965e-02,  1.05019890e-01,  5.72193190e-02, -2.72867642e-02,\n",
       "       -7.34263957e-02,  6.19494393e-02, -1.22281283e-01, -3.51909846e-02,\n",
       "        1.14900447e-01, -3.92184071e-02, -8.52162763e-03,  1.05108686e-01,\n",
       "       -1.43700764e-01,  1.22838825e-01,  3.13081080e-03,  3.61175835e-02,\n",
       "        3.35173234e-02, -1.02369245e-02, -1.36512175e-01, -1.08235650e-01,\n",
       "        9.42560211e-02, -2.05841467e-01,  1.68389693e-01,  1.44493833e-01,\n",
       "       -1.60820056e-02,  1.07997902e-01,  1.28765345e-01,  1.54628724e-01,\n",
       "       -1.33609986e-02, -4.79352884e-02, -1.80689335e-01, -2.47602835e-02,\n",
       "        1.85969383e-01,  6.40611872e-02,  6.32150024e-02, -6.20253943e-03])"
      ]
     },
     "execution_count": 31,
     "metadata": {},
     "output_type": "execute_result"
    }
   ],
   "source": [
    "x_train[0][0]"
   ]
  },
  {
   "cell_type": "code",
   "execution_count": 63,
   "metadata": {
    "ExecuteTime": {
     "end_time": "2020-01-02T04:04:52.086695Z",
     "start_time": "2020-01-02T04:04:52.067447Z"
    }
   },
   "outputs": [],
   "source": [
    "x_train_ = []\n",
    "y_train_ = []\n",
    "for i in range(2400):\n",
    "    if x_train[i]:\n",
    "        x_train_.append(x_train[i][0])\n",
    "        y_train_.append(y_train[i])"
   ]
  },
  {
   "cell_type": "code",
   "execution_count": 69,
   "metadata": {
    "ExecuteTime": {
     "end_time": "2020-01-02T04:05:32.751829Z",
     "start_time": "2020-01-02T04:05:32.731925Z"
    }
   },
   "outputs": [],
   "source": [
    "x_train = np.array(x_train_)\n",
    "y_train = np.array(y_train_)"
   ]
  },
  {
   "cell_type": "code",
   "execution_count": 74,
   "metadata": {
    "ExecuteTime": {
     "end_time": "2020-01-02T04:07:54.392450Z",
     "start_time": "2020-01-02T04:07:54.365183Z"
    }
   },
   "outputs": [],
   "source": [
    "x_train_ = (x_train - np.mean(x_train)) / np.std(x_train)"
   ]
  },
  {
   "cell_type": "code",
   "execution_count": 77,
   "metadata": {
    "ExecuteTime": {
     "end_time": "2020-01-02T04:08:28.188677Z",
     "start_time": "2020-01-02T04:08:28.162384Z"
    }
   },
   "outputs": [],
   "source": [
    "clf = SVC()"
   ]
  },
  {
   "cell_type": "code",
   "execution_count": 78,
   "metadata": {
    "ExecuteTime": {
     "end_time": "2020-01-02T04:08:45.841924Z",
     "start_time": "2020-01-02T04:08:45.743574Z"
    }
   },
   "outputs": [
    {
     "data": {
      "text/plain": [
       "SVC(C=1.0, break_ties=False, cache_size=200, class_weight=None, coef0=0.0,\n",
       "    decision_function_shape='ovr', degree=3, gamma='scale', kernel='rbf',\n",
       "    max_iter=-1, probability=False, random_state=None, shrinking=True,\n",
       "    tol=0.001, verbose=False)"
      ]
     },
     "execution_count": 78,
     "metadata": {},
     "output_type": "execute_result"
    }
   ],
   "source": [
    "clf.fit(x_train_, y_train)"
   ]
  },
  {
   "cell_type": "code",
   "execution_count": 84,
   "metadata": {
    "ExecuteTime": {
     "end_time": "2020-01-02T04:11:48.185640Z",
     "start_time": "2020-01-02T04:11:48.168849Z"
    }
   },
   "outputs": [],
   "source": [
    "img_test = RAW_DATA_DIR / 'test' / 'ly' / 'ly_auto20.jpg'"
   ]
  },
  {
   "cell_type": "code",
   "execution_count": 85,
   "metadata": {
    "ExecuteTime": {
     "end_time": "2020-01-02T04:11:48.366139Z",
     "start_time": "2020-01-02T04:11:48.330258Z"
    }
   },
   "outputs": [
    {
     "data": {
      "image/png": "[encoded data removed]",
      "text/plain": [
       "<PIL.JpegImagePlugin.JpegImageFile image mode=RGB size=172x172 at 0x7F4F52D42D90>"
      ]
     },
     "execution_count": 85,
     "metadata": {},
     "output_type": "execute_result"
    }
   ],
   "source": [
    "Image.open(img_test)"
   ]
  },
  {
   "cell_type": "code",
   "execution_count": 86,
   "metadata": {
    "ExecuteTime": {
     "end_time": "2020-01-02T04:12:27.339415Z",
     "start_time": "2020-01-02T04:12:27.014315Z"
    }
   },
   "outputs": [],
   "source": [
    "x_test = np.array(face_recognition.face_encodings(plt.imread(img_test)))"
   ]
  },
  {
   "cell_type": "code",
   "execution_count": 88,
   "metadata": {
    "ExecuteTime": {
     "end_time": "2020-01-02T04:12:50.931484Z",
     "start_time": "2020-01-02T04:12:50.913290Z"
    }
   },
   "outputs": [],
   "source": [
    "x_test = (x_test - np.mean(x_test)) / np.std(x_test)"
   ]
  },
  {
   "cell_type": "code",
   "execution_count": 89,
   "metadata": {
    "ExecuteTime": {
     "end_time": "2020-01-02T04:12:56.315124Z",
     "start_time": "2020-01-02T04:12:56.297687Z"
    }
   },
   "outputs": [
    {
     "data": {
      "text/plain": [
       "array(['ly'], dtype='<U7')"
      ]
     },
     "execution_count": 89,
     "metadata": {},
     "output_type": "execute_result"
    }
   ],
   "source": [
    "clf.predict(x_test)"
   ]
  },
  {
   "cell_type": "code",
   "execution_count": 90,
   "metadata": {
    "ExecuteTime": {
     "end_time": "2020-01-02T04:24:42.266471Z",
     "start_time": "2020-01-02T04:24:42.248733Z"
    }
   },
   "outputs": [],
   "source": [
    "import pickle\n",
    "with open('SVM.sav', 'wb') as f:\n",
    "    pickle.dump(clf, f)"
   ]
  },
  {
   "cell_type": "code",
   "execution_count": null,
   "metadata": {},
   "outputs": [],
   "source": []
  }
 ],
 "metadata": {
  "kernelspec": {
   "display_name": "Python 3",
   "language": "python",
   "name": "python3"
  },
  "language_info": {
   "codemirror_mode": {
    "name": "ipython",
    "version": 3
   },
   "file_extension": ".py",
   "mimetype": "text/x-python",
   "name": "python",
   "nbconvert_exporter": "python",
   "pygments_lexer": "ipython3",
   "version": "3.7.4"
  },
  "toc": {
   "base_numbering": 1,
   "nav_menu": {},
   "number_sections": true,
   "sideBar": true,
   "skip_h1_title": false,
   "title_cell": "Table of Contents",
   "title_sidebar": "Contents",
   "toc_cell": false,
   "toc_position": {},
   "toc_section_display": true,
   "toc_window_display": false
  }
 },
 "nbformat": 4,
 "nbformat_minor": 2
}
