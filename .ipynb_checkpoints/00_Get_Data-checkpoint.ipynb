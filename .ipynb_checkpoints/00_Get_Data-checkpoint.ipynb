{
 "cells": [
  {
   "cell_type": "markdown",
   "metadata": {},
   "source": [
    "# Import to use scripts"
   ]
  },
  {
   "cell_type": "code",
   "execution_count": 1,
   "metadata": {
    "ExecuteTime": {
     "end_time": "2020-01-02T05:43:12.282464Z",
     "start_time": "2020-01-02T05:43:12.266505Z"
    }
   },
   "outputs": [],
   "source": [
    "from pathlib import Path\n",
    "import sys\n",
    "root = Path.cwd().parent\n",
    "sys.path.insert(1, str(root))\n",
    "%load_ext autoreload\n",
    "%autoreload 2"
   ]
  },
  {
   "cell_type": "code",
   "execution_count": 2,
   "metadata": {
    "ExecuteTime": {
     "end_time": "2020-01-02T05:43:12.295732Z",
     "start_time": "2020-01-02T05:43:12.284263Z"
    }
   },
   "outputs": [],
   "source": [
    "from appconfig.config import IMAGE_DATA_DIR"
   ]
  },
  {
   "cell_type": "markdown",
   "metadata": {},
   "source": [
    "# Import needed Library"
   ]
  },
  {
   "cell_type": "code",
   "execution_count": 7,
   "metadata": {
    "ExecuteTime": {
     "end_time": "2020-01-02T06:14:20.771166Z",
     "start_time": "2020-01-02T06:14:19.163179Z"
    }
   },
   "outputs": [],
   "source": [
    "import cv2\n",
    "import dlib\n",
    "import os"
   ]
  },
  {
   "cell_type": "markdown",
   "metadata": {},
   "source": [
    "# Camera"
   ]
  },
  {
   "cell_type": "code",
   "execution_count": 5,
   "metadata": {
    "ExecuteTime": {
     "end_time": "2020-01-02T06:11:26.743065Z",
     "start_time": "2020-01-02T06:11:09.926704Z"
    },
    "code_folding": [
     2
    ]
   },
   "outputs": [
    {
     "name": "stdout",
     "output_type": "stream",
     "text": [
      "1 test's image(s) has been saved\n",
      "2 test's image(s) has been saved\n",
      "3 test's image(s) has been saved\n",
      "4 test's image(s) has been saved\n",
      "5 test's image(s) has been saved\n",
      "6 test's image(s) has been saved\n",
      "7 test's image(s) has been saved\n",
      "8 test's image(s) has been saved\n",
      "9 test's image(s) has been saved\n",
      "10 test's image(s) has been saved\n",
      "11 test's image(s) has been saved\n",
      "12 test's image(s) has been saved\n",
      "13 test's image(s) has been saved\n",
      "14 test's image(s) has been saved\n",
      "15 test's image(s) has been saved\n",
      "16 test's image(s) has been saved\n",
      "17 test's image(s) has been saved\n",
      "18 test's image(s) has been saved\n",
      "19 test's image(s) has been saved\n",
      "20 test's image(s) has been saved\n",
      "21 test's image(s) has been saved\n",
      "22 test's image(s) has been saved\n",
      "23 test's image(s) has been saved\n",
      "24 test's image(s) has been saved\n",
      "25 test's image(s) has been saved\n",
      "26 test's image(s) has been saved\n",
      "27 test's image(s) has been saved\n",
      "28 test's image(s) has been saved\n",
      "29 test's image(s) has been saved\n",
      "30 test's image(s) has been saved\n",
      "31 test's image(s) has been saved\n",
      "32 test's image(s) has been saved\n",
      "33 test's image(s) has been saved\n",
      "34 test's image(s) has been saved\n",
      "35 test's image(s) has been saved\n",
      "36 test's image(s) has been saved\n",
      "37 test's image(s) has been saved\n",
      "38 test's image(s) has been saved\n",
      "39 test's image(s) has been saved\n",
      "40 test's image(s) has been saved\n",
      "41 test's image(s) has been saved\n",
      "42 test's image(s) has been saved\n",
      "43 test's image(s) has been saved\n",
      "44 test's image(s) has been saved\n",
      "45 test's image(s) has been saved\n",
      "46 test's image(s) has been saved\n",
      "47 test's image(s) has been saved\n",
      "48 test's image(s) has been saved\n",
      "49 test's image(s) has been saved\n",
      "50 test's image(s) has been saved\n",
      "51 test's image(s) has been saved\n",
      "52 test's image(s) has been saved\n",
      "53 test's image(s) has been saved\n",
      "54 test's image(s) has been saved\n",
      "55 test's image(s) has been saved\n",
      "56 test's image(s) has been saved\n",
      "57 test's image(s) has been saved\n",
      "58 test's image(s) has been saved\n",
      "59 test's image(s) has been saved\n",
      "60 test's image(s) has been saved\n",
      "61 test's image(s) has been saved\n",
      "62 test's image(s) has been saved\n",
      "63 test's image(s) has been saved\n",
      "64 test's image(s) has been saved\n",
      "65 test's image(s) has been saved\n",
      "66 test's image(s) has been saved\n",
      "67 test's image(s) has been saved\n",
      "68 test's image(s) has been saved\n",
      "69 test's image(s) has been saved\n",
      "70 test's image(s) has been saved\n",
      "71 test's image(s) has been saved\n",
      "72 test's image(s) has been saved\n",
      "73 test's image(s) has been saved\n",
      "74 test's image(s) has been saved\n",
      "75 test's image(s) has been saved\n",
      "76 test's image(s) has been saved\n",
      "77 test's image(s) has been saved\n",
      "78 test's image(s) has been saved\n",
      "79 test's image(s) has been saved\n",
      "80 test's image(s) has been saved\n",
      "81 test's image(s) has been saved\n",
      "82 test's image(s) has been saved\n",
      "83 test's image(s) has been saved\n",
      "84 test's image(s) has been saved\n",
      "85 test's image(s) has been saved\n",
      "86 test's image(s) has been saved\n",
      "87 test's image(s) has been saved\n",
      "88 test's image(s) has been saved\n",
      "89 test's image(s) has been saved\n",
      "90 test's image(s) has been saved\n",
      "91 test's image(s) has been saved\n",
      "92 test's image(s) has been saved\n",
      "93 test's image(s) has been saved\n",
      "94 test's image(s) has been saved\n",
      "95 test's image(s) has been saved\n",
      "96 test's image(s) has been saved\n",
      "97 test's image(s) has been saved\n",
      "98 test's image(s) has been saved\n",
      "99 test's image(s) has been saved\n",
      "100 test's image(s) has been saved\n",
      "101 test's image(s) has been saved\n",
      "102 test's image(s) has been saved\n",
      "103 test's image(s) has been saved\n",
      "104 test's image(s) has been saved\n",
      "105 test's image(s) has been saved\n",
      "106 test's image(s) has been saved\n",
      "107 test's image(s) has been saved\n",
      "108 test's image(s) has been saved\n",
      "109 test's image(s) has been saved\n",
      "110 test's image(s) has been saved\n",
      "111 test's image(s) has been saved\n",
      "112 test's image(s) has been saved\n",
      "113 test's image(s) has been saved\n",
      "114 test's image(s) has been saved\n"
     ]
    }
   ],
   "source": [
    "detector = dlib.get_frontal_face_detector()\n",
    "\n",
    "def save_frame(frame, path, frame_name):\n",
    "    if not os.path.exists(path):\n",
    "        os.mkdir(path)\n",
    "    try:\n",
    "        cv2.imwrite(str(path / frame_name), frame)\n",
    "    except:\n",
    "        return\n",
    "\n",
    "def get_face_boundary(frame, upsample = 0):\n",
    "    rects = detector(frame, upsample)\n",
    "    lst = []\n",
    "    if len(rects) > 0:   \n",
    "        for rect in rects:\n",
    "            lst.append((rect.left(), rect.top()))\n",
    "            lst.append((rect.right(), rect.bottom()))\n",
    "        return lst\n",
    "    else:\n",
    "        return\n",
    "    \n",
    "def draw_rectangle_around_faces(frame, lst):\n",
    "    len_ = len(lst)\n",
    "    for i in range(len_ // 2):\n",
    "        rect = lst[i: i + 2]\n",
    "        left = rect[0][0]\n",
    "        top = rect[0][1]\n",
    "        right = rect[1][0]\n",
    "        bottom = rect[1][1]\n",
    "    cv2.rectangle(frame, (left, top), (right, bottom), (0, 255, 0), 2)\n",
    "    return \n",
    "    \n",
    "def run_facedetector_camera(name = None, save_face_frame = False):\n",
    "    cap = cv2.VideoCapture(0)\n",
    "    i = 0\n",
    "    while (True):\n",
    "        # Capture frame-by-frame\n",
    "        _, frame = cap.read()\n",
    "        if get_face_boundary(frame, upsample=0):\n",
    "            lst = get_face_boundary(frame, upsample=0)\n",
    "            draw_rectangle_around_faces(frame, lst)\n",
    "            if save_face_frame:\n",
    "                frame_name = f\"{i}.jpg\"\n",
    "                path = IMAGE_DATA_DIR / name \n",
    "                save_frame(frame, path, frame_name)\n",
    "                print(f\"{i + 1} {name}'s image(s) has been saved\")\n",
    "                i += 1\n",
    "        \n",
    "        # Display the resulting frame\n",
    "        cv2.imshow('Image', frame)\n",
    "            \n",
    "        if cv2.waitKey(1) & 0xFF == ord('q'):\n",
    "            break\n",
    "\n",
    "    # When everything done, release the capture\n",
    "    cap.release()\n",
    "    cv2.destroyAllWindows()\n",
    "    \n",
    "    return\n",
    "\n",
    "run_facedetector_camera(name='test', save_face_frame = True)"
   ]
  },
  {
   "cell_type": "code",
   "execution_count": null,
   "metadata": {
    "ExecuteTime": {
     "end_time": "2020-01-02T06:14:35.666398Z",
     "start_time": "2020-01-02T06:14:35.441419Z"
    }
   },
   "outputs": [],
   "source": []
  }
 ],
 "metadata": {
  "kernelspec": {
   "display_name": "Python 3",
   "language": "python",
   "name": "python3"
  },
  "language_info": {
   "codemirror_mode": {
    "name": "ipython",
    "version": 3
   },
   "file_extension": ".py",
   "mimetype": "text/x-python",
   "name": "python",
   "nbconvert_exporter": "python",
   "pygments_lexer": "ipython3",
   "version": "3.7.4"
  },
  "toc": {
   "base_numbering": 1,
   "nav_menu": {},
   "number_sections": true,
   "sideBar": true,
   "skip_h1_title": false,
   "title_cell": "Table of Contents",
   "title_sidebar": "Contents",
   "toc_cell": false,
   "toc_position": {},
   "toc_section_display": true,
   "toc_window_display": false
  }
 },
 "nbformat": 4,
 "nbformat_minor": 2
}
