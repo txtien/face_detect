{
 "cells": [
  {
   "cell_type": "markdown",
   "metadata": {},
   "source": [
    "# Import to use script"
   ]
  },
  {
   "cell_type": "code",
   "execution_count": 2,
   "metadata": {
    "ExecuteTime": {
     "end_time": "2020-01-05T15:08:20.712153Z",
     "start_time": "2020-01-05T15:08:20.694088Z"
    }
   },
   "outputs": [],
   "source": [
    "from pathlib import Path\n",
    "import sys\n",
    "root = Path.cwd().parent\n",
    "sys.path.insert(1, str(root))\n",
    "%load_ext autoreload\n",
    "%autoreload 2"
   ]
  },
  {
   "cell_type": "code",
   "execution_count": 3,
   "metadata": {
    "ExecuteTime": {
     "end_time": "2020-01-05T15:08:20.937048Z",
     "start_time": "2020-01-05T15:08:20.924467Z"
    }
   },
   "outputs": [],
   "source": [
    "from appconfig.config import CLEANED_DATA_DIR, PROCESSED_DATA_DIR, IMAGE_DATA_DIR, RAW_DATA_DIR"
   ]
  },
  {
   "cell_type": "markdown",
   "metadata": {},
   "source": [
    "# Import library"
   ]
  },
  {
   "cell_type": "code",
   "execution_count": 4,
   "metadata": {
    "ExecuteTime": {
     "end_time": "2020-01-05T15:08:21.468287Z",
     "start_time": "2020-01-05T15:08:21.457704Z"
    }
   },
   "outputs": [],
   "source": [
    "import os\n",
    "import shutil"
   ]
  },
  {
   "cell_type": "markdown",
   "metadata": {},
   "source": [
    "# Split Train Validation Test Folder"
   ]
  },
  {
   "cell_type": "code",
   "execution_count": 5,
   "metadata": {
    "ExecuteTime": {
     "end_time": "2020-01-05T15:08:22.005026Z",
     "start_time": "2020-01-05T15:08:21.994854Z"
    },
    "code_folding": []
   },
   "outputs": [],
   "source": [
    "def make_directory(path, foldername):\n",
    "    \"\"\"\n",
    "    Make directory\n",
    "    path: str\n",
    "    foldername: str\n",
    "    \"\"\"\n",
    "    \n",
    "    dir_ = path / foldername\n",
    "    if not os.path.exists(dir_):\n",
    "        os.mkdir(dir_)\n",
    "    return\n",
    "\n",
    "make_directory(PROCESSED_DATA_DIR, 'train')\n",
    "make_directory(PROCESSED_DATA_DIR, 'test')"
   ]
  },
  {
   "cell_type": "code",
   "execution_count": 6,
   "metadata": {
    "ExecuteTime": {
     "end_time": "2020-01-05T15:08:23.853015Z",
     "start_time": "2020-01-05T15:08:23.833452Z"
    },
    "code_folding": []
   },
   "outputs": [],
   "source": [
    "def create_data_dictionary(DATA_DIR):\n",
    "    '''\n",
    "    Loop through Image directory has many subfolders, subfolders's name is label\n",
    "\n",
    "    Args: \n",
    "    DATA_DIR: Image directory. type Poxis_Path\n",
    "    limit_image: Maximum images in dictionary\n",
    "\n",
    "    return:\n",
    "    Dict {'label': [images's filename]}\n",
    "    '''\n",
    "    data_dict = {}\n",
    "    for path in DATA_DIR.glob('*'):\n",
    "        label = str(path).split('/')[-1]\n",
    "        data_dict.setdefault(label, [])\n",
    "\n",
    "        for image_path in (DATA_DIR/label).glob('*'):\n",
    "            filename = str(image_path).split('/')[-1]\n",
    "            data_dict.get(label).append(filename)\n",
    "            \n",
    "    return data_dict\n",
    "\n",
    "data_dict = create_data_dictionary(CLEANED_DATA_DIR)"
   ]
  },
  {
   "cell_type": "code",
   "execution_count": 7,
   "metadata": {
    "ExecuteTime": {
     "end_time": "2020-01-05T15:08:29.607239Z",
     "start_time": "2020-01-05T15:08:29.453894Z"
    },
    "code_folding": []
   },
   "outputs": [],
   "source": [
    "def split_train_test_folder(\n",
    "        source, \n",
    "        destination, \n",
    "        data_dict, \n",
    "        test_size=0.2):\n",
    "    \n",
    "    for label, image_filenames in data_dict.items():\n",
    "        make_directory(destination / 'train', label)\n",
    "        make_directory(destination / 'test', label)\n",
    "        total_images = len(image_filenames)\n",
    "        test_samples = test_size * total_images\n",
    "        \n",
    "        i = 0\n",
    "        for image_filename in image_filenames:\n",
    "            src = os.path.join(source / label, image_filename)\n",
    "            \n",
    "            if i < test_samples:\n",
    "                test_label_dir = destination / 'test' / label\n",
    "                dst = os.path.join(test_label_dir, image_filename)\n",
    "                shutil.copyfile(src, dst)\n",
    "            \n",
    "            else:\n",
    "                train_label_dir = destination / 'train' / label\n",
    "                dst = os.path.join(train_label_dir, image_filename)\n",
    "                shutil.copyfile(src, dst)\n",
    "            \n",
    "            i += 1\n",
    "    return\n",
    "\n",
    "split_train_test_folder(CLEANED_DATA_DIR, PROCESSED_DATA_DIR, data_dict)"
   ]
  },
  {
   "cell_type": "code",
   "execution_count": null,
   "metadata": {},
   "outputs": [],
   "source": []
  }
 ],
 "metadata": {
  "kernelspec": {
   "display_name": "Python 3",
   "language": "python",
   "name": "python3"
  },
  "language_info": {
   "codemirror_mode": {
    "name": "ipython",
    "version": 3
   },
   "file_extension": ".py",
   "mimetype": "text/x-python",
   "name": "python",
   "nbconvert_exporter": "python",
   "pygments_lexer": "ipython3",
   "version": "3.7.4"
  },
  "toc": {
   "base_numbering": 1,
   "nav_menu": {},
   "number_sections": true,
   "sideBar": true,
   "skip_h1_title": false,
   "title_cell": "Table of Contents",
   "title_sidebar": "Contents",
   "toc_cell": false,
   "toc_position": {},
   "toc_section_display": true,
   "toc_window_display": false
  }
 },
 "nbformat": 4,
 "nbformat_minor": 2
}
