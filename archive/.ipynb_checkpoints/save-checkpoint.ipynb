{
 "cells": [
  {
   "cell_type": "code",
   "execution_count": null,
   "metadata": {},
   "outputs": [],
   "source": [
    "mtcnn_detector = mtcnn.MTCNN()\n",
    "\n",
    "def handle_when_x_y_less_than_0(x, y):\n",
    "    x = np.max([0, x])\n",
    "    y = np.max([0, y])\n",
    "    return x, y\n",
    "\n",
    "def draw_rectangle_around_faces(frame, top, right, bottom, left):\n",
    "    cv2.rectangle(frame, (left, top), (right, bottom), (0, 255, 0), 2)\n",
    "    return frame\n",
    "\n",
    "def calculate_angle(left_eye, right_eye):\n",
    "    dX = right_eye[0] - left_eye[0]\n",
    "    dY = right_eye[1] - left_eye[1]\n",
    "    angle = np.degrees(np.arctan2(dY, dX))\n",
    "    return angle\n",
    "\n",
    "def rotate_image(arr_img, angle):\n",
    "    image = Image.fromarray(arr_img)\n",
    "    image = image.rotate(angle)\n",
    "    arr_img = np.asarray(image)\n",
    "    return arr_img\n",
    "\n",
    "def extract_face(filename, required_size=(224, 224)):\n",
    "    # load image from file\n",
    "    pixels = plt.imread(filename)\n",
    "    # detect faces in the image\n",
    "    results = mtcnn_detector.detect_faces(pixels)\n",
    "    # rotate image\n",
    "    left_eye = results[0]['keypoints'].get('left_eye')\n",
    "    right_eye = results[0]['keypoints'].get('right_eye')\n",
    "    angle = calculate_angle(left_eye, right_eye)\n",
    "    rotated_image = rotate_image(pixels, angle)\n",
    "    # extract the bounding box from the first face by rotated_image's points\n",
    "    new_result = mtcnn_detector.detect_faces(rotated_image)\n",
    "    x1, y1, width, height = new_result[0]['box']\n",
    "    x1, y1 = handle_when_x_y_less_than_0(x1, y1)\n",
    "    x2, y2 = x1 + width, y1 + height\n",
    "    print(new_result)\n",
    "    # extract the face\n",
    "    face = rotated_image[y1:y2, x1:x2]\n",
    "    # resize pixels to the model size\n",
    "    image = Image.fromarray(face)\n",
    "    image = image.resize(required_size)\n",
    "    face_array = np.asarray(image)\n",
    "    return face_array"
   ]
  }
 ],
 "metadata": {
  "kernelspec": {
   "display_name": "Python 3",
   "language": "python",
   "name": "python3"
  },
  "language_info": {
   "codemirror_mode": {
    "name": "ipython",
    "version": 3
   },
   "file_extension": ".py",
   "mimetype": "text/x-python",
   "name": "python",
   "nbconvert_exporter": "python",
   "pygments_lexer": "ipython3",
   "version": "3.7.3"
  }
 },
 "nbformat": 4,
 "nbformat_minor": 2
}
