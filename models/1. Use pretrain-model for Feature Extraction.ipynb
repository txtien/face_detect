{
 "cells": [
  {
   "cell_type": "code",
   "execution_count": 1,
   "metadata": {
    "ExecuteTime": {
     "end_time": "2020-01-06T00:33:57.495706Z",
     "start_time": "2020-01-06T00:33:57.476315Z"
    }
   },
   "outputs": [],
   "source": [
    "from pathlib import Path\n",
    "import sys\n",
    "root = Path.cwd().parent.parent\n",
    "sys.path.insert(1, str(root))\n",
    "%load_ext autoreload\n",
    "%autoreload 2"
   ]
  },
  {
   "cell_type": "code",
   "execution_count": 2,
   "metadata": {
    "ExecuteTime": {
     "end_time": "2020-01-06T00:33:57.742289Z",
     "start_time": "2020-01-06T00:33:57.728180Z"
    }
   },
   "outputs": [],
   "source": [
    "from appconfig.config import PROCESSED_DATA_DIR"
   ]
  },
  {
   "cell_type": "markdown",
   "metadata": {},
   "source": [
    "# Import needed library"
   ]
  },
  {
   "cell_type": "code",
   "execution_count": 3,
   "metadata": {
    "ExecuteTime": {
     "end_time": "2020-01-06T00:34:02.577062Z",
     "start_time": "2020-01-06T00:33:58.607091Z"
    }
   },
   "outputs": [],
   "source": [
    "from tensorflow.keras.applications import Xception\n",
    "from tensorflow.keras.models import Model\n",
    "import os\n",
    "import numpy as np\n",
    "import matplotlib.pyplot as plt\n",
    "import seaborn as sns\n",
    "from tensorflow.keras.preprocessing.image import ImageDataGenerator\n",
    "from sklearn.decomposition import PCA\n",
    "from sklearn.preprocessing import StandardScaler\n",
    "from sklearn.model_selection import cross_val_score\n",
    "from sklearn.svm import SVC"
   ]
  },
  {
   "cell_type": "code",
   "execution_count": 4,
   "metadata": {
    "ExecuteTime": {
     "end_time": "2020-01-06T00:34:05.254660Z",
     "start_time": "2020-01-06T00:34:02.579670Z"
    }
   },
   "outputs": [],
   "source": [
    "conv_base = Xception(\n",
    "        weights='imagenet',\n",
    "        include_top=True,\n",
    "        input_shape=(299, 299, 3))"
   ]
  },
  {
   "cell_type": "code",
   "execution_count": 5,
   "metadata": {
    "ExecuteTime": {
     "end_time": "2020-01-06T00:34:05.294940Z",
     "start_time": "2020-01-06T00:34:05.256760Z"
    }
   },
   "outputs": [
    {
     "name": "stdout",
     "output_type": "stream",
     "text": [
      "Tensor(\"input_1:0\", shape=(None, 299, 299, 3), dtype=float32)\n",
      "Tensor(\"predictions/Identity:0\", shape=(None, 1000), dtype=float32)\n"
     ]
    }
   ],
   "source": [
    "print(conv_base.input)\n",
    "print(conv_base.output)"
   ]
  },
  {
   "cell_type": "code",
   "execution_count": 6,
   "metadata": {
    "ExecuteTime": {
     "end_time": "2020-01-06T00:34:05.369557Z",
     "start_time": "2020-01-06T00:34:05.298246Z"
    }
   },
   "outputs": [
    {
     "name": "stdout",
     "output_type": "stream",
     "text": [
      "Tensor(\"input_1:0\", shape=(None, 299, 299, 3), dtype=float32)\n",
      "Tensor(\"avg_pool/Identity:0\", shape=(None, 2048), dtype=float32)\n"
     ]
    }
   ],
   "source": [
    "model2 = Model(conv_base.input, conv_base.layers[-2].output)\n",
    "print(model2.input)\n",
    "print(model2.output)"
   ]
  },
  {
   "cell_type": "code",
   "execution_count": 11,
   "metadata": {
    "ExecuteTime": {
     "end_time": "2020-01-06T00:36:42.303093Z",
     "start_time": "2020-01-06T00:36:42.253190Z"
    }
   },
   "outputs": [],
   "source": [
    "train_dir = str(Path.cwd().parent.parent / 'data' / 'processed' / 'train')\n",
    "test_dir = str(Path.cwd().parent.parent / 'data' / 'processed' / 'test')\n",
    "datagen = ImageDataGenerator(rescale=1./255)\n",
    "batch_size = 20\n",
    "\n",
    "def extract_features(directory, sample_count, label_count, pretrained_model):\n",
    "    features = np.zeros(shape=(sample_count, 2048))\n",
    "    labels = np.zeros(shape=(sample_count,label_count))\n",
    "    \n",
    "    generator = datagen.flow_from_directory(\n",
    "            directory,\n",
    "            target_size=(299, 299),\n",
    "            batch_size=batch_size,\n",
    "            class_mode='categorical')\n",
    "    i = 0\n",
    "    for inputs_batch, labels_batch in generator:\n",
    "        features_batch = pretrained_model.predict(inputs_batch)\n",
    "        features[i * batch_size : (i + 1) * batch_size] = features_batch\n",
    "        labels[i * batch_size : (i + 1) * batch_size] = labels_batch\n",
    "        i += 1\n",
    "        if i * batch_size >= sample_count:\n",
    "            break\n",
    "    return features, labels\n",
    "\n",
    "train_features, train_labels = extract_features(train_dir, 2400, 11, model2)\n",
    "test_features, test_labels = extract_features(test_dir, 800, 11, model2)"
   ]
  },
  {
   "cell_type": "markdown",
   "metadata": {},
   "source": [
    "# Standardization "
   ]
  },
  {
   "cell_type": "code",
   "execution_count": 54,
   "metadata": {
    "ExecuteTime": {
     "end_time": "2020-01-04T07:22:14.809476Z",
     "start_time": "2020-01-04T07:22:14.644548Z"
    }
   },
   "outputs": [],
   "source": [
    "sc = StandardScaler()\n",
    "\n",
    "train_features_std = sc.fit_transform(train_features)\n",
    "test_features = sc.transform(test_features)"
   ]
  },
  {
   "cell_type": "markdown",
   "metadata": {},
   "source": [
    "# PCA"
   ]
  },
  {
   "cell_type": "code",
   "execution_count": 77,
   "metadata": {
    "ExecuteTime": {
     "end_time": "2020-01-04T07:32:06.277388Z",
     "start_time": "2020-01-04T07:32:06.234870Z"
    }
   },
   "outputs": [],
   "source": [
    "pca128 = PCA(n_components = 128)\n",
    "train_features_std_128 = pca128.fit_transform(train_features_std)\n",
    "test_features_std_128 = pca128.transform(test_features_std)"
   ]
  },
  {
   "cell_type": "markdown",
   "metadata": {},
   "source": [
    "# SVM"
   ]
  },
  {
   "cell_type": "code",
   "execution_count": 109,
   "metadata": {
    "ExecuteTime": {
     "end_time": "2020-01-04T07:58:20.278247Z",
     "start_time": "2020-01-04T07:58:16.509494Z"
    }
   },
   "outputs": [
    {
     "data": {
      "text/plain": [
       "SVC(C=1.0, break_ties=False, cache_size=200, class_weight=None, coef0=0.0,\n",
       "    decision_function_shape='ovr', degree=3, gamma='scale', kernel='linear',\n",
       "    max_iter=-1, probability=True, random_state=None, shrinking=True, tol=0.001,\n",
       "    verbose=False)"
      ]
     },
     "execution_count": 109,
     "metadata": {},
     "output_type": "execute_result"
    }
   ],
   "source": [
    "clf128 = SVC(kernel='linear', probability=True)\n",
    "clf128.fit(train_features_std_128, train_labels)"
   ]
  },
  {
   "cell_type": "code",
   "execution_count": 117,
   "metadata": {
    "ExecuteTime": {
     "end_time": "2020-01-04T08:17:03.690347Z",
     "start_time": "2020-01-04T08:16:23.241054Z"
    }
   },
   "outputs": [
    {
     "data": {
      "text/plain": [
       "array([0.99583333, 0.99583333, 1.        , 0.99583333, 0.99583333,\n",
       "       0.99166667, 1.        , 0.99583333, 0.99583333, 0.99583333])"
      ]
     },
     "execution_count": 117,
     "metadata": {},
     "output_type": "execute_result"
    }
   ],
   "source": [
    "cross_val_score(clf, train_features_std_128, train_labels, cv=10, n_jobs=-1)"
   ]
  },
  {
   "cell_type": "code",
   "execution_count": 118,
   "metadata": {
    "ExecuteTime": {
     "end_time": "2020-01-04T08:17:08.049134Z",
     "start_time": "2020-01-04T08:17:07.127182Z"
    }
   },
   "outputs": [
    {
     "data": {
      "text/plain": [
       "0.99875"
      ]
     },
     "execution_count": 118,
     "metadata": {},
     "output_type": "execute_result"
    }
   ],
   "source": [
    "clf.score(test_features_std_128, test_labels)"
   ]
  }
 ],
 "metadata": {
  "kernelspec": {
   "display_name": "Python 3",
   "language": "python",
   "name": "python3"
  },
  "language_info": {
   "codemirror_mode": {
    "name": "ipython",
    "version": 3
   },
   "file_extension": ".py",
   "mimetype": "text/x-python",
   "name": "python",
   "nbconvert_exporter": "python",
   "pygments_lexer": "ipython3",
   "version": "3.7.4"
  },
  "toc": {
   "base_numbering": 1,
   "nav_menu": {},
   "number_sections": true,
   "sideBar": true,
   "skip_h1_title": false,
   "title_cell": "Table of Contents",
   "title_sidebar": "Contents",
   "toc_cell": false,
   "toc_position": {},
   "toc_section_display": true,
   "toc_window_display": false
  }
 },
 "nbformat": 4,
 "nbformat_minor": 2
}
